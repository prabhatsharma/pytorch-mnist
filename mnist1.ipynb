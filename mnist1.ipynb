{
 "cells": [
  {
   "cell_type": "markdown",
   "metadata": {},
   "source": [
    "# Download and unzip images"
   ]
  },
  {
   "cell_type": "code",
   "execution_count": null,
   "metadata": {},
   "outputs": [],
   "source": [
    "!wget https://github.com/myleott/mnist_png/raw/master/mnist_png.tar.gz\n",
    "!tar -zxvf mnist_png.tar.gz"
   ]
  },
  {
   "cell_type": "code",
   "execution_count": null,
   "metadata": {},
   "outputs": [],
   "source": [
    "!tree -Lh 3"
   ]
  },
  {
   "cell_type": "code",
   "execution_count": 17,
   "metadata": {},
   "outputs": [],
   "source": [
    "import torch\n",
    "import torch.nn as nn\n",
    "import torchvision\n",
    "import torchvision.transforms as transforms\n",
    "from PIL import Image\n",
    "import torch.optim as optim\n",
    "from torch.optim.lr_scheduler import StepLR\n",
    "from torchvision import datasets, transforms\n",
    "import torch.nn.functional as F\n",
    "# from torch.utils.tensorboard import SummaryWriter\n",
    "\n",
    "# writer = SummaryWriter('runs')"
   ]
  },
  {
   "cell_type": "code",
   "execution_count": 18,
   "metadata": {},
   "outputs": [
    {
     "data": {
      "image/png": "[encoded data removed]",
      "text/plain": [
       "<PIL.Image.Image image mode=L size=224x224 at 0x7F6FF1C02630>"
      ]
     },
     "execution_count": 18,
     "metadata": {},
     "output_type": "execute_result"
    }
   ],
   "source": [
    "image0 = Image.open('mnist_png/training/0/11105.png')\n",
    "image0 = image0.resize((image0.width*8, image0.height*8))\n",
    "image0"
   ]
  },
  {
   "cell_type": "code",
   "execution_count": 19,
   "metadata": {},
   "outputs": [],
   "source": [
    "def test(model, device, test_loader):\n",
    "    model.eval()\n",
    "    test_loss = 0\n",
    "    correct = 0\n",
    "    with torch.no_grad():\n",
    "        for data, target in test_loader:\n",
    "            data, target = data.to(device), target.to(device)\n",
    "            output = model(data)\n",
    "            test_loss += F.nll_loss(output, target, reduction='sum').item()  # sum up batch loss\n",
    "            pred = output.argmax(dim=1, keepdim=True)  # get the index of the max log-probability\n",
    "            correct += pred.eq(target.view_as(pred)).sum().item()\n",
    "\n",
    "    test_loss /= len(test_loader.dataset)\n",
    "\n",
    "    print('\\nTest set: Average loss: {:.4f}, Accuracy: {}/{} ({:.0f}%)\\n'.format(\n",
    "        test_loss, correct, len(test_loader.dataset),\n",
    "        100. * correct / len(test_loader.dataset)))"
   ]
  },
  {
   "cell_type": "code",
   "execution_count": 20,
   "metadata": {},
   "outputs": [],
   "source": [
    "def data_loader(data_type, batch_size):\n",
    "    data_path = 'mnist_png/'+ data_type + '/'  # data_type = training/testing\n",
    "    \n",
    "#    By default the image has 3 channels and we exepect the image to be grayscale.\n",
    "#    So let's tranform the image to grayscale\n",
    "\n",
    "    dataset = torchvision.datasets.ImageFolder(\n",
    "        root = data_path,\n",
    "        #    By default the imageFolder loads images with 3 channels and we expect the image to be grayscale.\n",
    "        #    So let's transform the image to grayscale\n",
    "        transform =  transforms.Compose([transforms.Grayscale(), transforms.ToTensor()])\n",
    "    )\n",
    "    loader = torch.utils.data.DataLoader(\n",
    "        dataset,\n",
    "        batch_size=batch_size,\n",
    "        num_workers=1,\n",
    "        pin_memory=True,\n",
    "        shuffle=True\n",
    "    )\n",
    "    return loader"
   ]
  },
  {
   "cell_type": "code",
   "execution_count": 42,
   "metadata": {},
   "outputs": [],
   "source": [
    "class Net(nn.Module):\n",
    "    def __init__(self):\n",
    "        super(Net, self).__init__()\n",
    "        self.conv1 = nn.Conv2d(in_channels=1, out_channels=32, kernel_size=3, stride=1)        \n",
    "        self.conv2 = nn.Conv2d(32, 64, 3, 1)\n",
    "        self.dropout1 = nn.Dropout2d(0.25)\n",
    "        self.dropout2 = nn.Dropout2d(0.5)\n",
    "        self.fc1 = nn.Linear(9216, 128) # 64(no. of channels from conv2)*12*12 = 9216\n",
    "        self.fc2 = nn.Linear(128, 10)\n",
    "\n",
    "    def forward(self, x):        \n",
    "        #x.shape = 32, 1, 28, 28 (N=batch size, C=channels, H=height, W=width) . original image is 28x28 px\n",
    "        x = self.conv1(x) \n",
    "        #x.shape = 32, 32, 26, 26\n",
    "        x = F.relu(x)        \n",
    "        x = self.conv2(x) \n",
    "        # x.shape = 32, 64, 24, 24\n",
    "        x = F.max_pool2d(x, 2) # stride=2 will reduce the dimesions to half\n",
    "        # x.shape = 32, 64, 12, 12\n",
    "        x = self.dropout1(x)\n",
    "        x = torch.flatten(x, 1)\n",
    "        # x.shape = 32, 9216\n",
    "        x = self.fc1(x)\n",
    "        x = F.relu(x)\n",
    "        x = self.dropout2(x)\n",
    "        x = self.fc2(x)\n",
    "        output = F.log_softmax(x, dim=1)\n",
    "        return output"
   ]
  },
  {
   "cell_type": "code",
   "execution_count": 43,
   "metadata": {},
   "outputs": [],
   "source": [
    "def train(log_interval, model, device, train_loader, optimizer, epoch):\n",
    "    model.train()\n",
    "    for batch_idx, (data, target) in enumerate(train_loader):\n",
    "        data, target = data.to(device), target.to(device)\n",
    "        optimizer.zero_grad()\n",
    "        output = model(data)\n",
    "        loss = F.nll_loss(output, target)\n",
    "        loss.backward()\n",
    "        optimizer.step()\n",
    "        if batch_idx % log_interval == 0:\n",
    "            print('Train Epoch: {} [{}/{} ({:.0f}%)]\\tLoss: {:.6f}'.format(\n",
    "                epoch, batch_idx * len(data), len(train_loader.dataset),\n",
    "                100. * batch_idx / len(train_loader), loss.item()))\n",
    "            niter = epoch*len(train_loader)+batch_idx\n",
    "#             writer.add_scalar('Train/Loss', loss.data[0], niter)"
   ]
  },
  {
   "cell_type": "code",
   "execution_count": 44,
   "metadata": {},
   "outputs": [],
   "source": [
    "def main():\n",
    "    device = torch.device(\"cuda\")\n",
    "    \n",
    "    batch_size = 32\n",
    "    train_loader = data_loader('training', batch_size )\n",
    "    test_loader = data_loader('testing', batch_size )\n",
    "    log_interval=600 # batches\n",
    "    lr = 1.0\n",
    "    epochs = 5\n",
    "    gamma = 0.7\n",
    "    \n",
    "    model = Net().to(device)\n",
    "    optimizer = optim.Adadelta(model.parameters(), lr=lr)\n",
    "    \n",
    "    scheduler = StepLR(optimizer, step_size=1, gamma=gamma)\n",
    "    \n",
    "    for epoch in range(1, epochs + 1):\n",
    "        train(log_interval, model, device, train_loader, optimizer, epoch)\n",
    "        test(model, device, test_loader)\n",
    "        scheduler.step()\n",
    "    \n",
    "    torch.save(model.state_dict(), \"mnist_cnn.pt\")\n"
   ]
  },
  {
   "cell_type": "code",
   "execution_count": 45,
   "metadata": {},
   "outputs": [
    {
     "name": "stdout",
     "output_type": "stream",
     "text": [
      "starting at:  2019-12-26 13:22:22\n",
      "Train Epoch: 1 [0/60000 (0%)]\tLoss: 2.301808\n",
      "Train Epoch: 1 [19200/60000 (32%)]\tLoss: 0.049540\n",
      "Train Epoch: 1 [38400/60000 (64%)]\tLoss: 0.297102\n",
      "Train Epoch: 1 [57600/60000 (96%)]\tLoss: 0.032306\n",
      "\n",
      "Test set: Average loss: 0.0520, Accuracy: 9834/10000 (98%)\n",
      "\n",
      "Train Epoch: 2 [0/60000 (0%)]\tLoss: 0.110148\n",
      "Train Epoch: 2 [19200/60000 (32%)]\tLoss: 0.002803\n",
      "Train Epoch: 2 [38400/60000 (64%)]\tLoss: 0.055882\n",
      "Train Epoch: 2 [57600/60000 (96%)]\tLoss: 0.019621\n",
      "\n",
      "Test set: Average loss: 0.0380, Accuracy: 9875/10000 (99%)\n",
      "\n",
      "Train Epoch: 3 [0/60000 (0%)]\tLoss: 0.028334\n",
      "Train Epoch: 3 [19200/60000 (32%)]\tLoss: 0.255309\n",
      "Train Epoch: 3 [38400/60000 (64%)]\tLoss: 0.079158\n",
      "Train Epoch: 3 [57600/60000 (96%)]\tLoss: 0.023425\n",
      "\n",
      "Test set: Average loss: 0.0331, Accuracy: 9893/10000 (99%)\n",
      "\n",
      "Train Epoch: 4 [0/60000 (0%)]\tLoss: 0.047856\n",
      "Train Epoch: 4 [19200/60000 (32%)]\tLoss: 0.001571\n",
      "Train Epoch: 4 [38400/60000 (64%)]\tLoss: 0.022782\n",
      "Train Epoch: 4 [57600/60000 (96%)]\tLoss: 0.168567\n",
      "\n",
      "Test set: Average loss: 0.0312, Accuracy: 9910/10000 (99%)\n",
      "\n",
      "Train Epoch: 5 [0/60000 (0%)]\tLoss: 0.016767\n",
      "Train Epoch: 5 [19200/60000 (32%)]\tLoss: 0.011200\n",
      "Train Epoch: 5 [38400/60000 (64%)]\tLoss: 0.000414\n",
      "Train Epoch: 5 [57600/60000 (96%)]\tLoss: 0.004379\n",
      "\n",
      "Test set: Average loss: 0.0311, Accuracy: 9910/10000 (99%)\n",
      "\n",
      "ending  at:  2019-12-26 13:24:15\n",
      "total time taken:  113.05  seconds\n"
     ]
    }
   ],
   "source": [
    "import time\n",
    "if __name__ == '__main__':\n",
    "    start_time = time.time()\n",
    "    print('starting at: ',time.strftime('%Y-%m-%d %H:%M:%S'))\n",
    "    main()\n",
    "    end_time = time.time()\n",
    "    print('ending  at: ',time.strftime('%Y-%m-%d %H:%M:%S'))\n",
    "    print('total time taken: ', round(end_time-start_time,2), ' seconds')\n",
    "    "
   ]
  },
  {
   "cell_type": "markdown",
   "metadata": {},
   "source": [
    "Time taken for 5 epochs with num_workers=1, pin_memory=True :  108.68  seconds\n",
    "\n",
    " \n",
    "Time taken for 5 epochs without setting num_workers and pin_memory: 117.45  seconds\n",
    "\n"
   ]
  },
  {
   "cell_type": "code",
   "execution_count": null,
   "metadata": {},
   "outputs": [],
   "source": []
  }
 ],
 "metadata": {
  "kernelspec": {
   "display_name": "Environment (conda_pytorch_p36)",
   "language": "python",
   "name": "conda_pytorch_p36"
  },
  "language_info": {
   "codemirror_mode": {
    "name": "ipython",
    "version": 3
   },
   "file_extension": ".py",
   "mimetype": "text/x-python",
   "name": "python",
   "nbconvert_exporter": "python",
   "pygments_lexer": "ipython3",
   "version": "3.6.5"
  }
 },
 "nbformat": 4,
 "nbformat_minor": 2
}
